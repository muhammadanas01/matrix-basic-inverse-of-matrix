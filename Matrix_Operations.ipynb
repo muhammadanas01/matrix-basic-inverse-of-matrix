{
  "nbformat": 4,
  "nbformat_minor": 0,
  "metadata": {
    "colab": {
      "provenance": []
    },
    "kernelspec": {
      "name": "python3",
      "display_name": "Python 3"
    },
    "language_info": {
      "name": "python"
    }
  },
  "cells": [
    {
      "cell_type": "code",
      "execution_count": null,
      "metadata": {
        "id": "1zAKRtTq2Kk3"
      },
      "outputs": [],
      "source": [
        "import numpy as np"
      ]
    },
    {
      "cell_type": "code",
      "source": [
        "matrix_1 = np.array([[2,4],[3,4]])"
      ],
      "metadata": {
        "id": "HSF7TKgK2Okc"
      },
      "execution_count": null,
      "outputs": []
    },
    {
      "cell_type": "code",
      "source": [
        "print(matrix_1)"
      ],
      "metadata": {
        "colab": {
          "base_uri": "https://localhost:8080/"
        },
        "id": "B7FVyFmK25dg",
        "outputId": "85353cfb-5288-4b1f-aba5-8863d71905a6"
      },
      "execution_count": null,
      "outputs": [
        {
          "output_type": "stream",
          "name": "stdout",
          "text": [
            "[[2 4]\n",
            " [3 4]]\n"
          ]
        }
      ]
    },
    {
      "cell_type": "code",
      "source": [
        "matrix_1.shape"
      ],
      "metadata": {
        "colab": {
          "base_uri": "https://localhost:8080/"
        },
        "id": "x71SLb6g29J6",
        "outputId": "9f0014e9-feb7-4340-9102-1e390105c7a8"
      },
      "execution_count": null,
      "outputs": [
        {
          "output_type": "execute_result",
          "data": {
            "text/plain": [
              "(2, 2)"
            ]
          },
          "metadata": {},
          "execution_count": 4
        }
      ]
    },
    {
      "cell_type": "code",
      "source": [
        "matrix_2 = np.array([[2,4,21],[3,4,31],[6,4,34]])\n",
        "\n",
        "print(matrix_2)"
      ],
      "metadata": {
        "colab": {
          "base_uri": "https://localhost:8080/"
        },
        "id": "Y-DGNWk93AM6",
        "outputId": "096902e2-739f-49da-c224-26801be2a362"
      },
      "execution_count": null,
      "outputs": [
        {
          "output_type": "stream",
          "name": "stdout",
          "text": [
            "[[ 2  4 21]\n",
            " [ 3  4 31]\n",
            " [ 6  4 34]]\n"
          ]
        }
      ]
    },
    {
      "cell_type": "code",
      "source": [
        "matrix_2.shape"
      ],
      "metadata": {
        "colab": {
          "base_uri": "https://localhost:8080/"
        },
        "id": "AkHW4VLp3RJk",
        "outputId": "45db34e4-59e3-422c-dc3f-d47f1aa7767c"
      },
      "execution_count": null,
      "outputs": [
        {
          "output_type": "execute_result",
          "data": {
            "text/plain": [
              "(3, 3)"
            ]
          },
          "metadata": {},
          "execution_count": 6
        }
      ]
    },
    {
      "cell_type": "markdown",
      "source": [
        "Creating Matrix with random values\n"
      ],
      "metadata": {
        "id": "wOUFp0k-3mGS"
      }
    },
    {
      "cell_type": "code",
      "source": [
        "random_matrix = np.random.rand(3,3)\n",
        "\n",
        "print(random_matrix)"
      ],
      "metadata": {
        "colab": {
          "base_uri": "https://localhost:8080/"
        },
        "id": "V6NKaogZ3UNB",
        "outputId": "dfecfb1d-b028-44f4-f67b-fbcd69f3ef94"
      },
      "execution_count": null,
      "outputs": [
        {
          "output_type": "stream",
          "name": "stdout",
          "text": [
            "[[0.73985284 0.13452619 0.94108803]\n",
            " [0.1461382  0.62282182 0.2245371 ]\n",
            " [0.32686863 0.74591004 0.57938021]]\n"
          ]
        }
      ]
    },
    {
      "cell_type": "markdown",
      "source": [
        "Creating Random matrix with integers"
      ],
      "metadata": {
        "id": "UdBbxywP34XT"
      }
    },
    {
      "cell_type": "code",
      "source": [
        "random_matrix = np.random.randint(120,size=(4,4))\n",
        "\n",
        "print(random_matrix)"
      ],
      "metadata": {
        "colab": {
          "base_uri": "https://localhost:8080/"
        },
        "id": "FL9Z5oTC3zv9",
        "outputId": "0767cd06-4dc7-4f94-8501-ce58619ac5b8"
      },
      "execution_count": null,
      "outputs": [
        {
          "output_type": "stream",
          "name": "stdout",
          "text": [
            "[[  7  44  36  54]\n",
            " [105  27 119  45]\n",
            " [ 46  18 102 117]\n",
            " [  3  31  89  12]]\n"
          ]
        }
      ]
    },
    {
      "cell_type": "markdown",
      "source": [
        "Matrix with all values =1"
      ],
      "metadata": {
        "id": "uMms02OE4ZBB"
      }
    },
    {
      "cell_type": "code",
      "source": [
        "matrix_3 = np.ones((3,3))\n",
        "\n",
        "print(matrix_3)"
      ],
      "metadata": {
        "colab": {
          "base_uri": "https://localhost:8080/"
        },
        "id": "WX_KmM0e3-nu",
        "outputId": "4f1fb6cd-f6c9-4da7-c5f0-f167b5b838e3"
      },
      "execution_count": null,
      "outputs": [
        {
          "output_type": "stream",
          "name": "stdout",
          "text": [
            "[[1. 1. 1.]\n",
            " [1. 1. 1.]\n",
            " [1. 1. 1.]]\n"
          ]
        }
      ]
    },
    {
      "cell_type": "code",
      "source": [
        "matrix_3 = np.ones((3,3), dtype=int)\n",
        "\n",
        "print(matrix_3)"
      ],
      "metadata": {
        "colab": {
          "base_uri": "https://localhost:8080/"
        },
        "id": "_DYxsr_B4gg4",
        "outputId": "571b59d0-da26-401a-e150-85821ecd28c9"
      },
      "execution_count": null,
      "outputs": [
        {
          "output_type": "stream",
          "name": "stdout",
          "text": [
            "[[1 1 1]\n",
            " [1 1 1]\n",
            " [1 1 1]]\n"
          ]
        }
      ]
    },
    {
      "cell_type": "code",
      "source": [
        "matrix_4 = np.zeros((3,3))\n",
        "\n",
        "print(matrix_4)"
      ],
      "metadata": {
        "colab": {
          "base_uri": "https://localhost:8080/"
        },
        "id": "kqqv2nTD4v0G",
        "outputId": "7128cfe8-51a1-480f-8ac7-e1392a997db5"
      },
      "execution_count": null,
      "outputs": [
        {
          "output_type": "stream",
          "name": "stdout",
          "text": [
            "[[0. 0. 0.]\n",
            " [0. 0. 0.]\n",
            " [0. 0. 0.]]\n"
          ]
        }
      ]
    },
    {
      "cell_type": "code",
      "source": [
        "matrix_4 = np.zeros((4,7),dtype=int)\n",
        "\n",
        "print(matrix_4)"
      ],
      "metadata": {
        "colab": {
          "base_uri": "https://localhost:8080/"
        },
        "id": "zC6qPTvf45F-",
        "outputId": "97b08b95-a159-40dc-e104-d0fcb67b92bd"
      },
      "execution_count": null,
      "outputs": [
        {
          "output_type": "stream",
          "name": "stdout",
          "text": [
            "[[0 0 0 0 0 0 0]\n",
            " [0 0 0 0 0 0 0]\n",
            " [0 0 0 0 0 0 0]\n",
            " [0 0 0 0 0 0 0]]\n"
          ]
        }
      ]
    },
    {
      "cell_type": "markdown",
      "source": [
        "Identity Matrixx\n"
      ],
      "metadata": {
        "id": "UXxDoQM2_rpM"
      }
    },
    {
      "cell_type": "code",
      "source": [
        "identity_matrix = np.eye(5,5)\n",
        "\n",
        "print(identity_matrix)"
      ],
      "metadata": {
        "colab": {
          "base_uri": "https://localhost:8080/"
        },
        "id": "vcBhFGd6_i_G",
        "outputId": "d87f660d-f05e-4222-93d6-e9175efaf40b"
      },
      "execution_count": null,
      "outputs": [
        {
          "output_type": "stream",
          "name": "stdout",
          "text": [
            "[[1. 0. 0. 0. 0.]\n",
            " [0. 1. 0. 0. 0.]\n",
            " [0. 0. 1. 0. 0.]\n",
            " [0. 0. 0. 1. 0.]\n",
            " [0. 0. 0. 0. 1.]]\n"
          ]
        }
      ]
    },
    {
      "cell_type": "markdown",
      "source": [
        "Transpose Of A Matrix"
      ],
      "metadata": {
        "id": "W8zTO8UzAC1r"
      }
    },
    {
      "cell_type": "code",
      "source": [
        "a = np.random.randint(100, size=(4,5))\n",
        "\n",
        "print(a)"
      ],
      "metadata": {
        "colab": {
          "base_uri": "https://localhost:8080/"
        },
        "id": "D25-ICoW_0Cx",
        "outputId": "e05d4276-e55c-4232-9a01-cf3cc9ab0e2d"
      },
      "execution_count": null,
      "outputs": [
        {
          "output_type": "stream",
          "name": "stdout",
          "text": [
            "[[ 2 15 25 62  5]\n",
            " [25 66 34  4 95]\n",
            " [61 72 53 27 89]\n",
            " [11 88 45 50 27]]\n"
          ]
        }
      ]
    },
    {
      "cell_type": "code",
      "source": [
        "transpose_of_a_matrix = np.transpose(a)\n",
        "\n",
        "print(transpose_of_a_matrix)"
      ],
      "metadata": {
        "colab": {
          "base_uri": "https://localhost:8080/"
        },
        "id": "v-xAzqxKA0v-",
        "outputId": "2a270ba2-70ad-41a6-9888-16df23762e84"
      },
      "execution_count": null,
      "outputs": [
        {
          "output_type": "stream",
          "name": "stdout",
          "text": [
            "[[ 2 25 61 11]\n",
            " [15 66 72 88]\n",
            " [25 34 53 45]\n",
            " [62  4 27 50]\n",
            " [ 5 95 89 27]]\n"
          ]
        }
      ]
    },
    {
      "cell_type": "markdown",
      "source": [
        "## Determinants"
      ],
      "metadata": {
        "id": "oiIKdXzkBTDn"
      }
    },
    {
      "cell_type": "code",
      "source": [
        "a = np.random.randint(100, size=(3,3))\n",
        "\n",
        "print(a)"
      ],
      "metadata": {
        "colab": {
          "base_uri": "https://localhost:8080/"
        },
        "id": "n5LT8occB2-B",
        "outputId": "ab5bd3d8-3151-48d2-9a47-1e93111e9acc"
      },
      "execution_count": null,
      "outputs": [
        {
          "output_type": "stream",
          "name": "stdout",
          "text": [
            "[[77 26  6]\n",
            " [29 69 31]\n",
            " [68 91 60]]\n"
          ]
        }
      ]
    },
    {
      "cell_type": "code",
      "source": [
        "a[1][0]"
      ],
      "metadata": {
        "colab": {
          "base_uri": "https://localhost:8080/"
        },
        "id": "c40HY4evBKEA",
        "outputId": "67bc7627-240f-4a71-e951-9ad70672ca3d"
      },
      "execution_count": null,
      "outputs": [
        {
          "output_type": "execute_result",
          "data": {
            "text/plain": [
              "29"
            ]
          },
          "metadata": {},
          "execution_count": 35
        }
      ]
    },
    {
      "cell_type": "markdown",
      "source": [
        "### **Determinant 2x2 Matrix**"
      ],
      "metadata": {
        "id": "Hf2mwTmSYdjx"
      }
    },
    {
      "cell_type": "code",
      "source": [
        "def det_2x2(matrix_2x2):\n",
        "  det=(matrix_2x2[0][0]*matrix_2x2[1][1]) - (matrix_2x2[0][1]*matrix_2x2[1][0])\n",
        "  return det"
      ],
      "metadata": {
        "id": "sfw5u4PjBulk"
      },
      "execution_count": null,
      "outputs": []
    },
    {
      "cell_type": "code",
      "source": [
        "a = np.array([[1,2],[3,4]])\n",
        "\n",
        "print(det_2x2(a))"
      ],
      "metadata": {
        "colab": {
          "base_uri": "https://localhost:8080/"
        },
        "id": "J6vv3mIZEx_B",
        "outputId": "f5bca80c-1926-4a9b-91f6-8d49090bf747"
      },
      "execution_count": null,
      "outputs": [
        {
          "output_type": "stream",
          "name": "stdout",
          "text": [
            "-2\n"
          ]
        }
      ]
    },
    {
      "cell_type": "markdown",
      "source": [
        "### **Determinant 3x3 Matrix**"
      ],
      "metadata": {
        "id": "MZytnoNEYmmu"
      }
    },
    {
      "cell_type": "code",
      "source": [
        "def det_3x3(matrix_3x3):\n",
        "  #Expanding By Row-1\n",
        "  i = np.array([[matrix_3x3[1][1],matrix_3x3[1][2]],[matrix_3x3[2][1],matrix_3x3[2][2]]])\n",
        "  j = np.array([[matrix_3x3[1][0],matrix_3x3[1][2]],[matrix_3x3[2][0],matrix_3x3[2][2]]])\n",
        "  k = np.array([[matrix_3x3[1][0],matrix_3x3[1][1]],[matrix_3x3[2][0],matrix_3x3[2][1]]])\n",
        "\n",
        "  det = (matrix_3x3[0][0]*det_2x2(i))-(matrix_3x3[0][1]*det_2x2(j))+(matrix_3x3[0][2]*det_2x2(k))\n",
        "  return det"
      ],
      "metadata": {
        "id": "hXUUz4YhE7eQ"
      },
      "execution_count": null,
      "outputs": []
    },
    {
      "cell_type": "code",
      "source": [
        "a = np.array([[2,4,21],[3,4,31],[6,4,34]])\n",
        "\n",
        "print(det_3x3(a))"
      ],
      "metadata": {
        "colab": {
          "base_uri": "https://localhost:8080/"
        },
        "id": "MCE2uiPVG0aQ",
        "outputId": "59b8961c-28b1-4d3c-f817-cfb3f4091171"
      },
      "execution_count": null,
      "outputs": [
        {
          "output_type": "stream",
          "name": "stdout",
          "text": [
            "108\n"
          ]
        }
      ]
    },
    {
      "cell_type": "code",
      "source": [
        "# Create a NumPy matrix\n",
        "matrix = np.array([[1, 2, 3],\n",
        "                   [4, 5, 6],\n",
        "                   [7, 8, 9]])\n",
        "\n",
        "# Index of the column you want to remove\n",
        "col_to_remove = 1\n",
        "\n",
        "# Remove the specified column\n",
        "new_matrix = np.delete(matrix, col_to_remove, axis=1)\n",
        "\n",
        "print(\"Original matrix:\\n\", matrix)\n",
        "print(\"Matrix after removing column:\\n\", new_matrix)"
      ],
      "metadata": {
        "colab": {
          "base_uri": "https://localhost:8080/"
        },
        "id": "YDjQb2uyHMnl",
        "outputId": "1f69d36e-942c-4042-9a95-cf95a317df57"
      },
      "execution_count": null,
      "outputs": [
        {
          "output_type": "stream",
          "name": "stdout",
          "text": [
            "Original matrix:\n",
            " [[1 2 3]\n",
            " [4 5 6]\n",
            " [7 8 9]]\n",
            "Matrix after removing column:\n",
            " [[1 3]\n",
            " [4 6]\n",
            " [7 9]]\n"
          ]
        }
      ]
    },
    {
      "cell_type": "code",
      "source": [
        "a = np.array([[1,2,3],[4,5,6],[7,5,9]])\n",
        "\n",
        "print(det_3x3(a))"
      ],
      "metadata": {
        "colab": {
          "base_uri": "https://localhost:8080/"
        },
        "id": "1mkE92ggHD0o",
        "outputId": "8a489af8-7edb-4e90-faaf-6b2ab906fa0c"
      },
      "execution_count": null,
      "outputs": [
        {
          "output_type": "stream",
          "name": "stdout",
          "text": [
            "-18\n"
          ]
        }
      ]
    },
    {
      "cell_type": "markdown",
      "source": [
        "## Adjoint of a Matrix"
      ],
      "metadata": {
        "id": "tRCFWfoiYsnz"
      }
    },
    {
      "cell_type": "code",
      "source": [
        "def adj(matrix):\n",
        "  n_matrix = matrix.copy()\n",
        "  for i in range(matrix.shape[0]):\n",
        "    for j in range(matrix.shape[1]):\n",
        "      print(\"I: \",i, \" J: \", j)\n",
        "      temp_matrix = np.delete(matrix, i,axis=0)\n",
        "      temp_matrix = np.delete(temp_matrix, j,axis=1)\n",
        "\n",
        "      print(\"Temp Matrix is: \",temp_matrix)\n",
        "      print(\"Determinant of Matrix \", i,j,\"IS : \" ,det_2x2(temp_matrix))\n",
        "      n_matrix[i][j] = ((-1)**(i+j))*det_2x2(temp_matrix)\n",
        "\n",
        "  return np.transpose(n_matrix)\n"
      ],
      "metadata": {
        "id": "S3VBb6PUMqBV"
      },
      "execution_count": null,
      "outputs": []
    },
    {
      "cell_type": "code",
      "source": [
        "adj(a)"
      ],
      "metadata": {
        "colab": {
          "base_uri": "https://localhost:8080/"
        },
        "id": "pfANc56wM_N0",
        "outputId": "342d4bee-7fd6-404d-913e-f549651f4f3c"
      },
      "execution_count": null,
      "outputs": [
        {
          "output_type": "stream",
          "name": "stdout",
          "text": [
            "I:  0  J:  0\n",
            "Temp Matrix is:  [[5 6]\n",
            " [5 9]]\n",
            "Determinant of Matrix  0 0 IS :  15\n",
            "I:  0  J:  1\n",
            "Temp Matrix is:  [[4 6]\n",
            " [7 9]]\n",
            "Determinant of Matrix  0 1 IS :  -6\n",
            "I:  0  J:  2\n",
            "Temp Matrix is:  [[4 5]\n",
            " [7 5]]\n",
            "Determinant of Matrix  0 2 IS :  -15\n",
            "I:  1  J:  0\n",
            "Temp Matrix is:  [[2 3]\n",
            " [5 9]]\n",
            "Determinant of Matrix  1 0 IS :  3\n",
            "I:  1  J:  1\n",
            "Temp Matrix is:  [[1 3]\n",
            " [7 9]]\n",
            "Determinant of Matrix  1 1 IS :  -12\n",
            "I:  1  J:  2\n",
            "Temp Matrix is:  [[1 2]\n",
            " [7 5]]\n",
            "Determinant of Matrix  1 2 IS :  -9\n",
            "I:  2  J:  0\n",
            "Temp Matrix is:  [[2 3]\n",
            " [5 6]]\n",
            "Determinant of Matrix  2 0 IS :  -3\n",
            "I:  2  J:  1\n",
            "Temp Matrix is:  [[1 3]\n",
            " [4 6]]\n",
            "Determinant of Matrix  2 1 IS :  -6\n",
            "I:  2  J:  2\n",
            "Temp Matrix is:  [[1 2]\n",
            " [4 5]]\n",
            "Determinant of Matrix  2 2 IS :  -3\n"
          ]
        },
        {
          "output_type": "execute_result",
          "data": {
            "text/plain": [
              "array([[ 15,  -3,  -3],\n",
              "       [  6, -12,   6],\n",
              "       [-15,   9,  -3]])"
            ]
          },
          "metadata": {},
          "execution_count": 140
        }
      ]
    },
    {
      "cell_type": "code",
      "source": [
        "len(a)"
      ],
      "metadata": {
        "colab": {
          "base_uri": "https://localhost:8080/"
        },
        "id": "DQq-PwQ5NCnC",
        "outputId": "6959324a-dde0-42b7-9564-4056737f93f7"
      },
      "execution_count": null,
      "outputs": [
        {
          "output_type": "execute_result",
          "data": {
            "text/plain": [
              "3"
            ]
          },
          "metadata": {},
          "execution_count": 141
        }
      ]
    },
    {
      "cell_type": "code",
      "source": [
        "new_list = [[0,0,0],[0,0,0],[0,0,0]]\n",
        "\n",
        "for i in range(1,3):\n",
        "  for j in range(1,3):\n",
        "    new_list[i][j] = i*j\n",
        "\n",
        "print(new_list)"
      ],
      "metadata": {
        "colab": {
          "base_uri": "https://localhost:8080/"
        },
        "id": "Qg13tVGcN8hL",
        "outputId": "c4e2ef3c-f335-4dc1-8f03-77033f8ad833"
      },
      "execution_count": null,
      "outputs": [
        {
          "output_type": "stream",
          "name": "stdout",
          "text": [
            "[[0, 0, 0], [0, 1, 2], [0, 2, 4]]\n"
          ]
        }
      ]
    },
    {
      "cell_type": "code",
      "source": [],
      "metadata": {
        "id": "9br-3EB3PZXR"
      },
      "execution_count": null,
      "outputs": []
    },
    {
      "cell_type": "code",
      "source": [
        "a = np.array([[1,2,3],[4,5,6],[7,5,9]])\n",
        "\n",
        "print(det_3x3(a))"
      ],
      "metadata": {
        "colab": {
          "base_uri": "https://localhost:8080/"
        },
        "id": "72P5jFPmPrdW",
        "outputId": "8ab0212b-49fa-4088-ac00-418bc3088710"
      },
      "execution_count": null,
      "outputs": [
        {
          "output_type": "stream",
          "name": "stdout",
          "text": [
            "-18\n"
          ]
        }
      ]
    },
    {
      "cell_type": "code",
      "source": [
        "def adj(matrix):\n",
        "  n_matrix = matrix.copy()\n",
        "  for i in range(matrix.shape[0]):\n",
        "    for j in range(matrix.shape[1]):\n",
        "      print(\"I: \",i, \" J: \", j)\n",
        "      temp_matrix = np.vstack((matrix[:i, :], matrix[i+1:, :]))\n",
        "      temp_matrix = np.hstack((temp_matrix[:, :j], temp_matrix[:, j+1:]))\n",
        "\n",
        "\n",
        "      print(\"Temp Matrix is: \",temp_matrix)\n",
        "      print(\"Determinant of Matrix \", i,j,\"IS : \" ,det_2x2(temp_matrix))\n",
        "      n_matrix[i][j] = ((-1)**(i+j))*det_2x2(temp_matrix)\n",
        "\n",
        "  return np.transpose(n_matrix)"
      ],
      "metadata": {
        "id": "R-gTIg93Psu7"
      },
      "execution_count": null,
      "outputs": []
    },
    {
      "cell_type": "code",
      "source": [],
      "metadata": {
        "id": "eU8w0MolXY3w"
      },
      "execution_count": null,
      "outputs": []
    },
    {
      "cell_type": "code",
      "source": [
        "def adj(matrix):\n",
        "  n_matrix = matrix.copy()\n",
        "  for i in range(matrix.shape[0]):\n",
        "    for j in range(matrix.shape[1]):\n",
        "      # print(\"I: \",i, \" J: \", j)\n",
        "      temp_matrix = np.vstack((matrix[:i, :], matrix[i+1:, :]))\n",
        "      temp_matrix = np.hstack((temp_matrix[:, :j], temp_matrix[:, j+1:]))\n",
        "\n",
        "\n",
        "      # print(\"Temp Matrix is: \",temp_matrix)\n",
        "      # print(\"Determinant of Matrix \", i,j,\"IS : \" ,det_2x2(temp_matrix))\n",
        "      n_matrix[i][j] = ((-1)**(i+j))*det_2x2(temp_matrix)\n",
        "\n",
        "  return np.transpose(n_matrix)"
      ],
      "metadata": {
        "id": "g9IAy6pdXZbB"
      },
      "execution_count": null,
      "outputs": []
    },
    {
      "cell_type": "code",
      "source": [
        "adj(a)"
      ],
      "metadata": {
        "colab": {
          "base_uri": "https://localhost:8080/"
        },
        "id": "WgBGTNebVRqu",
        "outputId": "f64a6fac-40ec-4a1a-cffd-f16401b7e7e9"
      },
      "execution_count": null,
      "outputs": [
        {
          "output_type": "execute_result",
          "data": {
            "text/plain": [
              "array([[ 15,  -3,  -3],\n",
              "       [  6, -12,   6],\n",
              "       [-15,   9,  -3]])"
            ]
          },
          "metadata": {},
          "execution_count": 146
        }
      ]
    },
    {
      "cell_type": "markdown",
      "source": [
        "# **Inverse of a matrix**"
      ],
      "metadata": {
        "id": "aGu_Tg9LY2wa"
      }
    },
    {
      "cell_type": "markdown",
      "source": [
        "inverse of 3x3 matrix"
      ],
      "metadata": {
        "id": "H35IFPvMZFCz"
      }
    },
    {
      "cell_type": "code",
      "source": [
        "def inverse_matrix(matrix):\n",
        "  return adj(matrix)/det_3x3(matrix)"
      ],
      "metadata": {
        "id": "JlPf0ssjVXRn"
      },
      "execution_count": null,
      "outputs": []
    },
    {
      "cell_type": "code",
      "source": [
        "inverse_matrix(a)"
      ],
      "metadata": {
        "colab": {
          "base_uri": "https://localhost:8080/"
        },
        "id": "rqQYcuRhXHue",
        "outputId": "c4ed36ce-bc9b-415b-9983-171641999da9"
      },
      "execution_count": null,
      "outputs": [
        {
          "output_type": "execute_result",
          "data": {
            "text/plain": [
              "array([[-0.83333333,  0.16666667,  0.16666667],\n",
              "       [-0.33333333,  0.66666667, -0.33333333],\n",
              "       [ 0.83333333, -0.5       ,  0.16666667]])"
            ]
          },
          "metadata": {},
          "execution_count": 148
        }
      ]
    },
    {
      "cell_type": "code",
      "source": [
        "b = np.array([[1,2,3],[4,5,6],[7,8,9]])\n",
        "\n",
        "print(det_3x3(b))\n",
        "\n",
        "inverse_matrix(b)"
      ],
      "metadata": {
        "colab": {
          "base_uri": "https://localhost:8080/"
        },
        "id": "t4l1ku-3XRJN",
        "outputId": "ed15b8fc-0318-464c-a889-771d550b761b"
      },
      "execution_count": null,
      "outputs": [
        {
          "output_type": "stream",
          "name": "stdout",
          "text": [
            "0\n"
          ]
        },
        {
          "output_type": "stream",
          "name": "stderr",
          "text": [
            "<ipython-input-147-db286cb0879c>:2: RuntimeWarning: divide by zero encountered in divide\n",
            "  return adj(matrix)/det_3x3(matrix)\n"
          ]
        },
        {
          "output_type": "execute_result",
          "data": {
            "text/plain": [
              "array([[-inf,  inf, -inf],\n",
              "       [ inf, -inf,  inf],\n",
              "       [-inf,  inf, -inf]])"
            ]
          },
          "metadata": {},
          "execution_count": 149
        }
      ]
    },
    {
      "cell_type": "code",
      "source": [],
      "metadata": {
        "id": "EEFnVwjDZsUT"
      },
      "execution_count": null,
      "outputs": []
    }
  ]
}